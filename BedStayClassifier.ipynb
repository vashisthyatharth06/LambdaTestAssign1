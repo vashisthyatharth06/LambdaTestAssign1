{
  "nbformat": 4,
  "nbformat_minor": 0,
  "metadata": {
    "colab": {
      "name": "BedStayClassifier.ipynb",
      "provenance": []
    },
    "kernelspec": {
      "name": "python3",
      "display_name": "Python 3"
    },
    "language_info": {
      "name": "python"
    }
  },
  "cells": [
    {
      "cell_type": "code",
      "metadata": {
        "colab": {
          "base_uri": "https://localhost:8080/"
        },
        "id": "IzO55vTtmSe-",
        "outputId": "83bc16c0-2815-4cbb-9751-338ad070e341"
      },
      "source": [
        "from google.colab import drive\n",
        "drive.mount('/content/drive')"
      ],
      "execution_count": null,
      "outputs": [
        {
          "output_type": "stream",
          "text": [
            "Mounted at /content/drive\n"
          ],
          "name": "stdout"
        }
      ]
    },
    {
      "cell_type": "code",
      "metadata": {
        "id": "RDPQxU1rpE4g"
      },
      "source": [
        "import pandas as pd \n",
        "train=pd.read_csv('/content/drive/MyDrive/Ltassign1datafiles/train_data.csv')"
      ],
      "execution_count": null,
      "outputs": []
    },
    {
      "cell_type": "code",
      "metadata": {
        "colab": {
          "base_uri": "https://localhost:8080/"
        },
        "id": "jDiq4FydqXmK",
        "outputId": "db51582d-091d-4c02-e124-90422d459919"
      },
      "source": [
        "print(train.head())"
      ],
      "execution_count": null,
      "outputs": [
        {
          "output_type": "stream",
          "text": [
            "   case_id  Hospital_code Hospital_type_code  ...    Age Admission_Deposit   Stay\n",
            "0        1              8                  c  ...  51-60            4911.0   0-10\n",
            "1        2              2                  c  ...  51-60            5954.0  41-50\n",
            "2        3             10                  e  ...  51-60            4745.0  31-40\n",
            "3        4             26                  b  ...  51-60            7272.0  41-50\n",
            "4        5             26                  b  ...  51-60            5558.0  41-50\n",
            "\n",
            "[5 rows x 18 columns]\n"
          ],
          "name": "stdout"
        }
      ]
    },
    {
      "cell_type": "code",
      "metadata": {
        "id": "sz_QcfuPqeoU"
      },
      "source": [
        "test=pd.read_csv('/content/drive/MyDrive/Ltassign1datafiles/test_data.csv')"
      ],
      "execution_count": null,
      "outputs": []
    },
    {
      "cell_type": "code",
      "metadata": {
        "colab": {
          "base_uri": "https://localhost:8080/"
        },
        "id": "UlXDkLDNsBN-",
        "outputId": "9987cad2-9f9f-466e-a7d2-51dad41d94c7"
      },
      "source": [
        "print(test.head())"
      ],
      "execution_count": null,
      "outputs": [
        {
          "output_type": "stream",
          "text": [
            "   case_id  Hospital_code  ...    Age  Admission_Deposit\n",
            "0   318439             21  ...  71-80             3095.0\n",
            "1   318440             29  ...  71-80             4018.0\n",
            "2   318441             26  ...  71-80             4492.0\n",
            "3   318442              6  ...  71-80             4173.0\n",
            "4   318443             28  ...  71-80             4161.0\n",
            "\n",
            "[5 rows x 17 columns]\n"
          ],
          "name": "stdout"
        }
      ]
    },
    {
      "cell_type": "code",
      "metadata": {
        "id": "QwSbTRZpsFX3"
      },
      "source": [
        "import numpy as np # linear algebra\n",
        "import pandas as pd # data processing, CSV file I/O (e.g. pd.read_csv)\n",
        "from sklearn.preprocessing import LabelEncoder"
      ],
      "execution_count": null,
      "outputs": []
    },
    {
      "cell_type": "code",
      "metadata": {
        "colab": {
          "base_uri": "https://localhost:8080/",
          "height": 1000
        },
        "id": "6jSXeYQesL4C",
        "outputId": "21515e62-a224-4538-fe79-c900542c986b"
      },
      "source": [
        "# Number of Null Values\n",
        "display(train.isna().sum())\n",
        "display(test.isna().sum())\n",
        "\n",
        "# Unique Values in Each Column\n",
        "display(train.nunique())\n",
        "display(test.nunique())"
      ],
      "execution_count": null,
      "outputs": [
        {
          "output_type": "display_data",
          "data": {
            "text/plain": [
              "case_id                                 0\n",
              "Hospital_code                           0\n",
              "Hospital_type_code                      0\n",
              "City_Code_Hospital                      0\n",
              "Hospital_region_code                    0\n",
              "Available Extra Rooms in Hospital       0\n",
              "Department                              0\n",
              "Ward_Type                               0\n",
              "Ward_Facility_Code                      0\n",
              "Bed Grade                             113\n",
              "patientid                               0\n",
              "City_Code_Patient                    4532\n",
              "Type of Admission                       0\n",
              "Severity of Illness                     0\n",
              "Visitors with Patient                   0\n",
              "Age                                     0\n",
              "Admission_Deposit                       0\n",
              "Stay                                    0\n",
              "dtype: int64"
            ]
          },
          "metadata": {
            "tags": []
          }
        },
        {
          "output_type": "display_data",
          "data": {
            "text/plain": [
              "case_id                                 0\n",
              "Hospital_code                           0\n",
              "Hospital_type_code                      0\n",
              "City_Code_Hospital                      0\n",
              "Hospital_region_code                    0\n",
              "Available Extra Rooms in Hospital       0\n",
              "Department                              0\n",
              "Ward_Type                               0\n",
              "Ward_Facility_Code                      0\n",
              "Bed Grade                              35\n",
              "patientid                               0\n",
              "City_Code_Patient                    2157\n",
              "Type of Admission                       0\n",
              "Severity of Illness                     0\n",
              "Visitors with Patient                   0\n",
              "Age                                     0\n",
              "Admission_Deposit                       0\n",
              "dtype: int64"
            ]
          },
          "metadata": {
            "tags": []
          }
        },
        {
          "output_type": "display_data",
          "data": {
            "text/plain": [
              "case_id                              318438\n",
              "Hospital_code                            32\n",
              "Hospital_type_code                        7\n",
              "City_Code_Hospital                       11\n",
              "Hospital_region_code                      3\n",
              "Available Extra Rooms in Hospital        18\n",
              "Department                                5\n",
              "Ward_Type                                 6\n",
              "Ward_Facility_Code                        6\n",
              "Bed Grade                                 4\n",
              "patientid                             92017\n",
              "City_Code_Patient                        37\n",
              "Type of Admission                         3\n",
              "Severity of Illness                       3\n",
              "Visitors with Patient                    28\n",
              "Age                                      10\n",
              "Admission_Deposit                      7300\n",
              "Stay                                     11\n",
              "dtype: int64"
            ]
          },
          "metadata": {
            "tags": []
          }
        },
        {
          "output_type": "display_data",
          "data": {
            "text/plain": [
              "case_id                              137057\n",
              "Hospital_code                            32\n",
              "Hospital_type_code                        7\n",
              "City_Code_Hospital                       11\n",
              "Hospital_region_code                      3\n",
              "Available Extra Rooms in Hospital        15\n",
              "Department                                5\n",
              "Ward_Type                                 6\n",
              "Ward_Facility_Code                        6\n",
              "Bed Grade                                 4\n",
              "patientid                             39607\n",
              "City_Code_Patient                        37\n",
              "Type of Admission                         3\n",
              "Severity of Illness                       3\n",
              "Visitors with Patient                    27\n",
              "Age                                      10\n",
              "Admission_Deposit                      6609\n",
              "dtype: int64"
            ]
          },
          "metadata": {
            "tags": []
          }
        }
      ]
    },
    {
      "cell_type": "code",
      "metadata": {
        "colab": {
          "base_uri": "https://localhost:8080/"
        },
        "id": "e38q5EypsP4Q",
        "outputId": "1b120238-f4c1-4bcd-98e1-668c81c291e3"
      },
      "source": [
        "train.shape,test.shape"
      ],
      "execution_count": null,
      "outputs": [
        {
          "output_type": "execute_result",
          "data": {
            "text/plain": [
              "((318438, 18), (137057, 17))"
            ]
          },
          "metadata": {
            "tags": []
          },
          "execution_count": 12
        }
      ]
    },
    {
      "cell_type": "code",
      "metadata": {
        "id": "SQUaHkLesc3Z"
      },
      "source": [
        "train=train.drop('case_id',axis=1)\n",
        "test=test.drop('case_id',axis=1)"
      ],
      "execution_count": null,
      "outputs": []
    },
    {
      "cell_type": "code",
      "metadata": {
        "colab": {
          "base_uri": "https://localhost:8080/"
        },
        "id": "5J8Vod57soeT",
        "outputId": "1574b8c3-23f7-4c7b-b63f-3549fcdad891"
      },
      "source": [
        "train.shape,test.shape"
      ],
      "execution_count": null,
      "outputs": [
        {
          "output_type": "execute_result",
          "data": {
            "text/plain": [
              "((318438, 17), (137057, 16))"
            ]
          },
          "metadata": {
            "tags": []
          },
          "execution_count": 14
        }
      ]
    },
    {
      "cell_type": "code",
      "metadata": {
        "id": "EGjTUtqlsqFW"
      },
      "source": [
        "# Selecting Categorical Columns for Label Encoding\n",
        "cat_train=train.select_dtypes(include=['object'])\n",
        "cat_col=list(cat_train.columns)\n",
        "cat_col_test=['Hospital_type_code', 'Hospital_region_code', 'Department', 'Ward_Type', 'Ward_Facility_Code', 'Type of Admission', 'Severity of Illness', 'Age']"
      ],
      "execution_count": null,
      "outputs": []
    },
    {
      "cell_type": "code",
      "metadata": {
        "colab": {
          "base_uri": "https://localhost:8080/"
        },
        "id": "38ORGzSbsyR4",
        "outputId": "8e2cdf9b-89ef-4b88-ba5e-819a49a33d96"
      },
      "source": [
        "# Label encoding\n",
        "le=LabelEncoder()\n",
        "for cat_column in cat_col_test:\n",
        "    train[cat_column]=le.fit_transform(train[cat_column])\n",
        "    test[cat_column]=le.transform(test[cat_column])\n",
        "train['Stay']=le.fit_transform(train['Stay'])\n",
        "print(le.inverse_transform([0,1,2,3,4,5,6,7,8,9,10,]))"
      ],
      "execution_count": null,
      "outputs": [
        {
          "output_type": "stream",
          "text": [
            "['0-10' '11-20' '21-30' '31-40' '41-50' '51-60' '61-70' '71-80' '81-90'\n",
            " '91-100' 'More than 100 Days']\n"
          ],
          "name": "stdout"
        }
      ]
    },
    {
      "cell_type": "code",
      "metadata": {
        "colab": {
          "base_uri": "https://localhost:8080/"
        },
        "id": "O6CjZwyetY3p",
        "outputId": "2ece03d5-acab-4115-daaf-0be1d373be69"
      },
      "source": [
        "train.info()"
      ],
      "execution_count": null,
      "outputs": [
        {
          "output_type": "stream",
          "text": [
            "<class 'pandas.core.frame.DataFrame'>\n",
            "RangeIndex: 318438 entries, 0 to 318437\n",
            "Data columns (total 17 columns):\n",
            " #   Column                             Non-Null Count   Dtype  \n",
            "---  ------                             --------------   -----  \n",
            " 0   Hospital_code                      318438 non-null  int64  \n",
            " 1   Hospital_type_code                 318438 non-null  int64  \n",
            " 2   City_Code_Hospital                 318438 non-null  int64  \n",
            " 3   Hospital_region_code               318438 non-null  int64  \n",
            " 4   Available Extra Rooms in Hospital  318438 non-null  int64  \n",
            " 5   Department                         318438 non-null  int64  \n",
            " 6   Ward_Type                          318438 non-null  int64  \n",
            " 7   Ward_Facility_Code                 318438 non-null  int64  \n",
            " 8   Bed Grade                          318325 non-null  float64\n",
            " 9   patientid                          318438 non-null  int64  \n",
            " 10  City_Code_Patient                  313906 non-null  float64\n",
            " 11  Type of Admission                  318438 non-null  int64  \n",
            " 12  Severity of Illness                318438 non-null  int64  \n",
            " 13  Visitors with Patient              318438 non-null  int64  \n",
            " 14  Age                                318438 non-null  int64  \n",
            " 15  Admission_Deposit                  318438 non-null  float64\n",
            " 16  Stay                               318438 non-null  int64  \n",
            "dtypes: float64(3), int64(14)\n",
            "memory usage: 41.3 MB\n"
          ],
          "name": "stdout"
        }
      ]
    },
    {
      "cell_type": "code",
      "metadata": {
        "colab": {
          "base_uri": "https://localhost:8080/"
        },
        "id": "KkuYgBNYtHSS",
        "outputId": "58eec699-ade0-4720-c3ea-daeabc47669a"
      },
      "source": [
        "#######XGBoost###\n",
        "# intializing X and Y\n",
        "import xgboost as XGB\n",
        "from sklearn.model_selection import train_test_split\n",
        "from sklearn.metrics import accuracy_score \n",
        "X=train.drop(['Stay'],axis=1)\n",
        "y=train['Stay']\n",
        "\n",
        "# train test split\n",
        "X_train,X_test,y_train,y_test=train_test_split(X,y,test_size=0.2)\n",
        "\n",
        "# XGB Classifier\n",
        "clf=XGB.XGBClassifier(learning_rate =0.1,\n",
        " n_estimators=1000,\n",
        " max_depth=5,)\n",
        "clf.fit(X_train,y_train)\n",
        "\n",
        "# Predict the values\n",
        "y_predict=clf.predict(X_test)\n",
        "test['Stay']=clf.predict(test)\n",
        "\n",
        "test['Stay1']=test['Stay']\n",
        "\n",
        "test['Stay']=test['Stay'].map({0:'0-10',1:'11-20',2:'21-30',3:'31-40',4:'41-50',5:'51-60',6:'61-70',7:'71-80',8:'81-90',9:'91-100',10:'More than 100 Days'})\n",
        "\n",
        "# Accuracy Score\n",
        "acc=accuracy_score(y_test,y_predict)\n",
        "print(acc)"
      ],
      "execution_count": null,
      "outputs": [
        {
          "output_type": "stream",
          "text": [
            "0.42670518779047856\n"
          ],
          "name": "stdout"
        }
      ]
    },
    {
      "cell_type": "code",
      "metadata": {
        "id": "nVFr3EcG_3-e"
      },
      "source": [
        "test['Stay'].to_csv('output.csv')"
      ],
      "execution_count": null,
      "outputs": []
    },
    {
      "cell_type": "code",
      "metadata": {
        "id": "xYOXGzmJ_-Gj"
      },
      "source": [
        ""
      ],
      "execution_count": null,
      "outputs": []
    }
  ]
}